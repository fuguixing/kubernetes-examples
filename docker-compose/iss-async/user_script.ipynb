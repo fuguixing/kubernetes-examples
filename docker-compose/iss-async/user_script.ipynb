{
 "cells": [
  {
   "cell_type": "code",
   "execution_count": null,
   "metadata": {},
   "outputs": [],
   "source": [
    "from shortest_execution import Solver\n",
    "\n",
    "class KafkaConsumer(Solver):\n",
    "    def __init__(self, **kwargs):\n",
    "        pass\n",
    "\n",
    "    def iterate(self, **kwargs):\n",
    "        return {'result':'11111111111'}\n",
    "\n",
    "    def close(self):\n",
    "        pass\n",
    "\n",
    "    def is_ready(self):\n",
    "        return True"
   ]
  }
 ],
 "metadata": {},
 "nbformat": 4,
 "nbformat_minor": 0
}
